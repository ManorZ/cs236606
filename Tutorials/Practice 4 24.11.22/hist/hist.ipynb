{
 "cells": [
  {
   "cell_type": "code",
   "execution_count": 1,
   "metadata": {},
   "outputs": [
    {
     "name": "stdout",
     "output_type": "stream",
     "text": [
      "Job has been submitted to Intel(R) DevCloud and will execute soon.\n",
      "\n",
      " If you do not see result in 60 seconds, please restart the Jupyter kernel:\n",
      " Kernel -> 'Restart Kernel and Clear All Outputs...' and then try again\n",
      "\n",
      "Job ID                    Name             User            Time Use S Queue\n",
      "------------------------- ---------------- --------------- -------- - -----\n",
      "2053922.v-qsvr-1           ...ub-singleuser u166450         00:00:09 R jupyterhub     \n",
      "2053933.v-qsvr-1           run_hist.sh      u166450                0 Q batch          \n",
      "\n",
      "Waiting for Output ████████████████████████████████████████████████████████████\n",
      "\n",
      "TimeOut 60 seconds: Job is still queued for execution, check for output file later (run_hist.sh.o2053933)\n",
      "\n"
     ]
    }
   ],
   "source": [
    "! chmod 755 ./q; chmod 755 run_hist.sh;if [ -x \"$(command -v qsub)\" ]; then ./q run_hist.sh; else ./run_hist.sh; fi"
   ]
  },
  {
   "cell_type": "code",
   "execution_count": null,
   "metadata": {},
   "outputs": [],
   "source": []
  },
  {
   "cell_type": "code",
   "execution_count": null,
   "metadata": {},
   "outputs": [],
   "source": []
  }
 ],
 "metadata": {
  "kernelspec": {
   "display_name": "Python 3 (Intel® oneAPI 2022.3)",
   "language": "python",
   "name": "c009-intel_distribution_of_python_3_oneapi-beta05-python"
  },
  "language_info": {
   "codemirror_mode": {
    "name": "ipython",
    "version": 3
   },
   "file_extension": ".py",
   "mimetype": "text/x-python",
   "name": "python",
   "nbconvert_exporter": "python",
   "pygments_lexer": "ipython3",
   "version": "3.9.13"
  }
 },
 "nbformat": 4,
 "nbformat_minor": 4
}

{
 "cells": [
  {
   "cell_type": "code",
   "execution_count": 5,
   "metadata": {},
   "outputs": [
    {
     "name": "stdout",
     "output_type": "stream",
     "text": [
      "Job has been submitted to Intel(R) DevCloud and will execute soon.\n",
      "\n",
      " If you do not see result in 60 seconds, please restart the Jupyter kernel:\n",
      " Kernel -> 'Restart Kernel and Clear All Outputs...' and then try again\n",
      "\n",
      "Job ID                    Name             User            Time Use S Queue\n",
      "------------------------- ---------------- --------------- -------- - -----\n",
      "2054118.v-qsvr-1           ...ub-singleuser u166450         00:00:25 R jupyterhub     \n",
      "2054453.v-qsvr-1           run_stencil.sh   u166450                0 Q batch          \n",
      "\n",
      "Waiting for Output ███████████████████████ Done⬇\n",
      "\n",
      "########################################################################\n",
      "#      Date:           Thu 24 Nov 2022 03:14:28 AM PST\n",
      "#    Job ID:           2054453.v-qsvr-1.aidevcloud\n",
      "#      User:           u166450\n",
      "# Resources:           cput=35:00:00,neednodes=1:batch:ppn=2,nodes=1:batch:ppn=2,walltime=06:00:00\n",
      "########################################################################\n",
      "\n",
      "Serial stencil execution on 2D grid\n",
      "Grid size            = 2000\n",
      "Radius of stencil    = 8\n",
      "Type of stencil      = compact\n",
      "Number of iterations = 25\n",
      "Solution validates\n",
      "Parallel Rate (MFlops/s): 6475.057166  Avg time (s): 0.351980\n",
      "Parallel execution with 12 threads\n",
      "\n",
      "########################################################################\n",
      "# End of output for job 2054453.v-qsvr-1.aidevcloud\n",
      "# Date: Thu 24 Nov 2022 03:14:44 AM PST\n",
      "########################################################################\n",
      "\n",
      "stencil_sol.c:86:71: warning: format specifies type 'int' but the argument has type 'long' [-Wformat]\n",
      "    printf(\"ERROR: Stencil radius %d exceeds grid size %d\\n\", RADIUS, n);\n",
      "                                                       ~~             ^\n",
      "                                                       %ld\n",
      "stencil_sol.c:125:41: warning: format specifies type 'int' but the argument has type 'long' [-Wformat]\n",
      "  printf(\"Grid size            = %d\\n\", n);\n",
      "                                 ~~     ^\n",
      "                                 %ld\n",
      "2 warnings generated.\n",
      "Job Completed in 23 seconds.\n"
     ]
    }
   ],
   "source": [
    "! chmod 755 ./q; chmod 755 run_stencil.sh;if [ -x \"$(command -v qsub)\" ]; then ./q run_stencil.sh; else ./run_stencil.sh; fi"
   ]
  },
  {
   "cell_type": "code",
   "execution_count": null,
   "metadata": {},
   "outputs": [],
   "source": []
  },
  {
   "cell_type": "code",
   "execution_count": null,
   "metadata": {},
   "outputs": [],
   "source": []
  }
 ],
 "metadata": {
  "kernelspec": {
   "display_name": "Python 3 (Intel® oneAPI 2022.3)",
   "language": "python",
   "name": "c009-intel_distribution_of_python_3_oneapi-beta05-python"
  },
  "language_info": {
   "codemirror_mode": {
    "name": "ipython",
    "version": 3
   },
   "file_extension": ".py",
   "mimetype": "text/x-python",
   "name": "python",
   "nbconvert_exporter": "python",
   "pygments_lexer": "ipython3",
   "version": "3.9.13"
  }
 },
 "nbformat": 4,
 "nbformat_minor": 4
}

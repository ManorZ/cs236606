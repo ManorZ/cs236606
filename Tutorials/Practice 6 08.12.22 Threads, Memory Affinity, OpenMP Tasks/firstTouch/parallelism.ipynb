{
 "cells": [
  {
   "cell_type": "code",
   "execution_count": 4,
   "metadata": {},
   "outputs": [
    {
     "name": "stdout",
     "output_type": "stream",
     "text": [
      "Job has been submitted to Intel(R) DevCloud and will execute soon.\n",
      "\n",
      " If you do not see result in 60 seconds, please restart the Jupyter kernel:\n",
      " Kernel -> 'Restart Kernel and Clear All Outputs...' and then try again\n",
      "\n",
      "Job ID                    Name             User            Time Use S Queue\n",
      "------------------------- ---------------- --------------- -------- - -----\n",
      "2077717.v-qsvr-1           ...ub-singleuser u166450         00:00:12 R jupyterhub     \n",
      "2078011.v-qsvr-1           run.sh           u166450                0 Q batch          \n",
      "\n",
      "Waiting for Output ███████████ Done⬇\n",
      "\n",
      "########################################################################\n",
      "#      Date:           Thu 08 Dec 2022 02:43:48 AM PST\n",
      "#    Job ID:           2078011.v-qsvr-1.aidevcloud\n",
      "#      User:           u166450\n",
      "# Resources:           cput=35:00:00,neednodes=1:batch:ppn=2,nodes=1:batch:ppn=2,walltime=06:00:00\n",
      "########################################################################\n",
      "\n",
      "Execution time: 0.187223 seconds \n",
      "\n",
      "########################################################################\n",
      "# End of output for job 2078011.v-qsvr-1.aidevcloud\n",
      "# Date: Thu 08 Dec 2022 02:43:56 AM PST\n",
      "########################################################################\n",
      "\n",
      "Job Completed in 11 seconds.\n"
     ]
    }
   ],
   "source": [
    "! chmod 755 q; chmod 755 run.sh;if [ -x \"$(command -v qsub)\" ]; then ./q run.sh; else ./run.sh; fi"
   ]
  },
  {
   "cell_type": "code",
   "execution_count": null,
   "metadata": {},
   "outputs": [],
   "source": []
  },
  {
   "cell_type": "code",
   "execution_count": null,
   "metadata": {},
   "outputs": [],
   "source": []
  }
 ],
 "metadata": {
  "kernelspec": {
   "display_name": "Python 3 (Intel® oneAPI 2022.3)",
   "language": "python",
   "name": "c009-intel_distribution_of_python_3_oneapi-beta05-python"
  },
  "language_info": {
   "codemirror_mode": {
    "name": "ipython",
    "version": 3
   },
   "file_extension": ".py",
   "mimetype": "text/x-python",
   "name": "python",
   "nbconvert_exporter": "python",
   "pygments_lexer": "ipython3",
   "version": "3.9.13"
  }
 },
 "nbformat": 4,
 "nbformat_minor": 4
}
